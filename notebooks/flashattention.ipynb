{
 "cells": [
  {
   "cell_type": "markdown",
   "id": "ac25a403-d48e-41ef-9920-88d895e0dc8c",
   "metadata": {},
   "source": [
    "# [FlashAttention](https://github.com/HazyResearch/flash-attention)"
   ]
  }
 ],
 "metadata": {
  "kernelspec": {
   "display_name": "Rust",
   "language": "rust",
   "name": "rust"
  },
  "language_info": {
   "codemirror_mode": "rust",
   "file_extension": ".rs",
   "mimetype": "text/rust",
   "name": "Rust",
   "pygment_lexer": "rust",
   "version": ""
  }
 },
 "nbformat": 4,
 "nbformat_minor": 5
}
