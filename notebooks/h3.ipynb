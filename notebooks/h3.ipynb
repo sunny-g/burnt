{
 "cells": [
  {
   "cell_type": "markdown",
   "id": "0c83be37-f175-4785-aa01-d85fb9190e14",
   "metadata": {},
   "source": [
    "# [H3](https://github.com/HazyResearch/H3)"
   ]
  }
 ],
 "metadata": {
  "kernelspec": {
   "display_name": "Rust",
   "language": "rust",
   "name": "rust"
  },
  "language_info": {
   "codemirror_mode": "rust",
   "file_extension": ".rs",
   "mimetype": "text/rust",
   "name": "Rust",
   "pygment_lexer": "rust",
   "version": ""
  }
 },
 "nbformat": 4,
 "nbformat_minor": 5
}
